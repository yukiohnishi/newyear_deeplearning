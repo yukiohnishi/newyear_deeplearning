{
 "cells": [
  {
   "cell_type": "code",
   "execution_count": 1,
   "metadata": {
    "collapsed": true
   },
   "outputs": [],
   "source": [
    "import pandas as pd\n",
    "import numpy as np\n",
    "import matplotlib.pyplot as plt\n",
    "import seaborn as sns\n",
    "from util import getData\n",
    "%matplotlib inline"
   ]
  },
  {
   "cell_type": "markdown",
   "metadata": {},
   "source": [
    "##### ハイパーパラメタの宣言"
   ]
  },
  {
   "cell_type": "code",
   "execution_count": 2,
   "metadata": {
    "collapsed": false
   },
   "outputs": [
    {
     "name": "stderr",
     "output_type": "stream",
     "text": [
      "Using TensorFlow backend.\n"
     ]
    }
   ],
   "source": [
    "from keras.datasets import mnist\n",
    "from keras.models import Sequential\n",
    "from keras.layers import Dense, Dropout, Activation, Flatten\n",
    "from keras.layers import Convolution2D, MaxPooling2D\n",
    "from keras.utils import np_utils\n",
    "from keras import backend as K\n",
    "\n",
    "batch_size = 128\n",
    "nb_classes = 7\n",
    "nb_epoch = 12\n",
    "\n",
    "img_rows, img_cols = 48, 48\n",
    "nb_filters = 20\n",
    "pool_size = (2, 2)\n",
    "pool_stride_size = (2, 2)\n",
    "kernel_size = (5, 5)"
   ]
  },
  {
   "cell_type": "markdown",
   "metadata": {},
   "source": [
    "##### データの読み込み"
   ]
  },
  {
   "cell_type": "code",
   "execution_count": 3,
   "metadata": {
    "collapsed": true
   },
   "outputs": [],
   "source": [
    "X_train, X_test, y_train, y_test = getData()"
   ]
  },
  {
   "cell_type": "code",
   "execution_count": 4,
   "metadata": {
    "collapsed": false
   },
   "outputs": [
    {
     "data": {
      "text/plain": [
       "(32633, 2304)"
      ]
     },
     "execution_count": 4,
     "metadata": {},
     "output_type": "execute_result"
    }
   ],
   "source": [
    "X_train.shape"
   ]
  },
  {
   "cell_type": "markdown",
   "metadata": {},
   "source": [
    "データが既にフラットになっているので、これを4次元データに変換する。(batch size, color, width, height)"
   ]
  },
  {
   "cell_type": "code",
   "execution_count": 5,
   "metadata": {
    "collapsed": true
   },
   "outputs": [],
   "source": [
    "## Caution!! ##\n",
    "# kerasはバックエンドでtheanoもしくはtensorflowを動かしています。\n",
    "# tensorflowとtheanoでinputとして渡すデータの形式が若干異なります。\n",
    "# そのため、以下のように、それぞれのフレームワークごとにデータを整形し直します。\n",
    "if K.image_dim_ordering() == 'th': # theanoがバックエンドで動くように設定されている場合\n",
    "    X_train = X_train.reshape(X_train.shape[0], 1, img_rows, img_cols)\n",
    "    X_test = X_test.reshape(X_test.shape[0], 1, img_rows, img_cols)\n",
    "    input_shape = (1, img_rows, img_cols)\n",
    "else:# tensorflowがバックエンドで動くように設定されている場合\n",
    "    X_train = X_train.reshape(X_train.shape[0], img_rows, img_cols, 1)\n",
    "    X_test = X_test.reshape(X_test.shape[0], img_rows, img_cols, 1)\n",
    "    input_shape = (img_rows, img_cols, 1)"
   ]
  },
  {
   "cell_type": "code",
   "execution_count": 6,
   "metadata": {
    "collapsed": false
   },
   "outputs": [
    {
     "data": {
      "text/plain": [
       "(32633, 48, 48, 1)"
      ]
     },
     "execution_count": 6,
     "metadata": {},
     "output_type": "execute_result"
    }
   ],
   "source": [
    "X_train.shape"
   ]
  },
  {
   "cell_type": "markdown",
   "metadata": {},
   "source": [
    "4次元になりました。"
   ]
  },
  {
   "cell_type": "code",
   "execution_count": 7,
   "metadata": {
    "collapsed": false
   },
   "outputs": [
    {
     "name": "stdout",
     "output_type": "stream",
     "text": [
      "X_train shape: (32633, 48, 48, 1)\n",
      "32633 train samples\n",
      "4093 test samples\n"
     ]
    }
   ],
   "source": [
    "X_train = X_train.astype('float32')\n",
    "X_test = X_test.astype('float32')\n",
    "X_train /= 255\n",
    "X_test /= 255\n",
    "print('X_train shape:', X_train.shape)\n",
    "print(X_train.shape[0], 'train samples')\n",
    "print(X_test.shape[0], 'test samples')"
   ]
  },
  {
   "cell_type": "markdown",
   "metadata": {},
   "source": [
    "##### yのone-hot encoding"
   ]
  },
  {
   "cell_type": "code",
   "execution_count": 8,
   "metadata": {
    "collapsed": true
   },
   "outputs": [],
   "source": [
    "from sklearn.preprocessing import LabelBinarizer, MultiLabelBinarizer\n",
    "lb = LabelBinarizer()\n",
    "y_train = lb.fit_transform(y_train)\n",
    "y_test = lb.fit_transform(y_test)"
   ]
  },
  {
   "cell_type": "markdown",
   "metadata": {},
   "source": [
    "##### CNN modelの作成"
   ]
  },
  {
   "cell_type": "code",
   "execution_count": 9,
   "metadata": {
    "collapsed": true
   },
   "outputs": [],
   "source": [
    "model = Sequential()\n",
    "\n",
    "model.add(Convolution2D(nb_filters, kernel_size[0], kernel_size[1], border_mode='same', dim_ordering=K.image_dim_ordering(), input_shape=input_shape))\n",
    "model.add(Activation('tanh'))\n",
    "model.add(MaxPooling2D(pool_size=pool_size, strides=pool_stride_size, dim_ordering=K.image_dim_ordering()))\n",
    "model.add(Convolution2D(nb_filters, kernel_size[0], kernel_size[1], border_mode='same', dim_ordering=K.image_dim_ordering()))\n",
    "model.add(Activation('tanh'))\n",
    "model.add(MaxPooling2D(pool_size=pool_size, strides=pool_stride_size, dim_ordering=K.image_dim_ordering()))\n",
    "model.add(Dropout(0.5))\n",
    "\n",
    "model.add(Flatten())\n",
    "model.add(Dense(500))\n",
    "model.add(Activation('relu'))\n",
    "model.add(Dropout(0.5))\n",
    "model.add(Dense(300))\n",
    "model.add(Activation('relu'))\n",
    "model.add(Dropout(0.5))\n",
    "model.add(Dense(nb_classes))\n",
    "model.add(Activation('softmax'))"
   ]
  },
  {
   "cell_type": "code",
   "execution_count": 10,
   "metadata": {
    "collapsed": true
   },
   "outputs": [],
   "source": [
    "model.compile(loss='categorical_crossentropy',\n",
    "              optimizer='rmsprop',\n",
    "              metrics=['accuracy'])"
   ]
  },
  {
   "cell_type": "code",
   "execution_count": 11,
   "metadata": {
    "collapsed": false
   },
   "outputs": [
    {
     "name": "stdout",
     "output_type": "stream",
     "text": [
      "Train on 32633 samples, validate on 4093 samples\n",
      "Epoch 1/12\n",
      "32633/32633 [==============================] - 131s - loss: 1.9087 - acc: 0.2223 - val_loss: 1.8395 - val_acc: 0.2688\n",
      "Epoch 2/12\n",
      "32633/32633 [==============================] - 139s - loss: 1.7807 - acc: 0.3091 - val_loss: 1.6752 - val_acc: 0.3667\n",
      "Epoch 3/12\n",
      "32633/32633 [==============================] - 133s - loss: 1.6639 - acc: 0.3682 - val_loss: 1.5823 - val_acc: 0.4210\n",
      "Epoch 4/12\n",
      "32633/32633 [==============================] - 139s - loss: 1.5562 - acc: 0.4141 - val_loss: 1.5524 - val_acc: 0.4310\n",
      "Epoch 5/12\n",
      "32633/32633 [==============================] - 136s - loss: 1.4740 - acc: 0.4442 - val_loss: 1.4886 - val_acc: 0.4425\n",
      "Epoch 6/12\n",
      "32633/32633 [==============================] - 149s - loss: 1.4069 - acc: 0.4673 - val_loss: 1.4987 - val_acc: 0.4571\n",
      "Epoch 7/12\n",
      "32633/32633 [==============================] - 136s - loss: 1.3539 - acc: 0.4825 - val_loss: 1.5134 - val_acc: 0.4625\n",
      "Epoch 8/12\n",
      "32633/32633 [==============================] - 139s - loss: 1.3075 - acc: 0.4978 - val_loss: 1.4844 - val_acc: 0.4688\n",
      "Epoch 9/12\n",
      "32633/32633 [==============================] - 138s - loss: 1.2793 - acc: 0.5088 - val_loss: 1.4803 - val_acc: 0.4789\n",
      "Epoch 10/12\n",
      "32633/32633 [==============================] - 153s - loss: 1.2488 - acc: 0.5208 - val_loss: 1.4915 - val_acc: 0.4808\n",
      "Epoch 11/12\n",
      "32633/32633 [==============================] - 147s - loss: 1.2255 - acc: 0.5346 - val_loss: 1.5292 - val_acc: 0.4772\n",
      "Epoch 12/12\n",
      "32633/32633 [==============================] - 168s - loss: 1.2036 - acc: 0.5407 - val_loss: 1.5049 - val_acc: 0.4913\n"
     ]
    },
    {
     "data": {
      "text/plain": [
       "<keras.callbacks.History at 0x116a2fcf8>"
      ]
     },
     "execution_count": 11,
     "metadata": {},
     "output_type": "execute_result"
    }
   ],
   "source": [
    "model.fit(X_train, y_train, batch_size=batch_size, nb_epoch=nb_epoch,\n",
    "          verbose=1, validation_data=(X_test, y_test))"
   ]
  },
  {
   "cell_type": "markdown",
   "metadata": {},
   "source": [
    "手元の環境accuracy0.52あたりで収束"
   ]
  },
  {
   "cell_type": "code",
   "execution_count": null,
   "metadata": {
    "collapsed": true
   },
   "outputs": [],
   "source": []
  }
 ],
 "metadata": {
  "kernelspec": {
   "display_name": "Python 3",
   "language": "python",
   "name": "python3"
  },
  "language_info": {
   "codemirror_mode": {
    "name": "ipython",
    "version": 3
   },
   "file_extension": ".py",
   "mimetype": "text/x-python",
   "name": "python",
   "nbconvert_exporter": "python",
   "pygments_lexer": "ipython3",
   "version": "3.5.0"
  }
 },
 "nbformat": 4,
 "nbformat_minor": 0
}
