{
 "cells": [
  {
   "cell_type": "code",
   "execution_count": 34,
   "metadata": {
    "collapsed": true
   },
   "outputs": [],
   "source": [
    "import pandas as pd\n",
    "import numpy as np\n",
    "import matplotlib.pyplot as plt\n",
    "import wave\n",
    "import sys\n",
    "from scipy.io.wavfile import write\n",
    "%matplotlib inline"
   ]
  },
  {
   "cell_type": "code",
   "execution_count": 35,
   "metadata": {
    "collapsed": false
   },
   "outputs": [],
   "source": [
    "spf = wave.open('../datasets/deeplearning.wav', 'r')"
   ]
  },
  {
   "cell_type": "code",
   "execution_count": 36,
   "metadata": {
    "collapsed": false
   },
   "outputs": [
    {
     "name": "stdout",
     "output_type": "stream",
     "text": [
      "numpy signal: (317312,)\n"
     ]
    },
    {
     "name": "stderr",
     "output_type": "stream",
     "text": [
      "/Users/yuki.ohnishi/.pyenv/versions/analysis/lib/python3.5/site-packages/ipykernel/__main__.py:2: DeprecationWarning: Numeric-style type codes are deprecated and will result in an error in the future.\n",
      "  from ipykernel import kernelapp as app\n"
     ]
    }
   ],
   "source": [
    "signal = spf.readframes(-1)\n",
    "signal = np.fromstring(signal, 'Int16')\n",
    "print(\"numpy signal:\", signal.shape)"
   ]
  },
  {
   "cell_type": "code",
   "execution_count": 37,
   "metadata": {
    "collapsed": false
   },
   "outputs": [
    {
     "data": {
      "image/png": "[encoded data removed]",
      "text/plain": [
       "<matplotlib.figure.Figure at 0x118f21b00>"
      ]
     },
     "metadata": {},
     "output_type": "display_data"
    }
   ],
   "source": [
    "plt.plot(signal)\n",
    "plt.title(\"deeplearning\")\n",
    "plt.show()"
   ]
  },
  {
   "cell_type": "code",
   "execution_count": 38,
   "metadata": {
    "collapsed": false
   },
   "outputs": [
    {
     "name": "stdout",
     "output_type": "stream",
     "text": [
      "noecho signal: (317314,)\n"
     ]
    }
   ],
   "source": [
    "delta = np.array([1., 0., 0.])\n",
    "noecho = np.convolve(signal, delta)\n",
    "print(\"noecho signal:\", noecho.shape)"
   ]
  },
  {
   "cell_type": "code",
   "execution_count": 39,
   "metadata": {
    "collapsed": true
   },
   "outputs": [],
   "source": [
    "assert(np.abs(noecho[:len(signal)] - signal).sum() < 0.000001)"
   ]
  },
  {
   "cell_type": "code",
   "execution_count": 40,
   "metadata": {
    "collapsed": true
   },
   "outputs": [],
   "source": [
    "noecho = noecho.astype(np.int16) \n",
    "write('../datasets/noecho.wav', 16000, noecho)\n",
    "\n",
    "filt = np.zeros(16000)\n",
    "filt[0] = 1\n",
    "filt[4000] = 0.6\n",
    "filt[8000] = 0.3\n",
    "filt[12000] = 0.2\n",
    "filt[15999] = 0.1\n",
    "out = np.convolve(signal, filt)\n",
    "\n",
    "out = out.astype(np.int16) \n",
    "write('../datasets/out.wav', 16000, out)"
   ]
  },
  {
   "cell_type": "code",
   "execution_count": null,
   "metadata": {
    "collapsed": true
   },
   "outputs": [],
   "source": []
  }
 ],
 "metadata": {
  "kernelspec": {
   "display_name": "Python 3",
   "language": "python",
   "name": "python3"
  },
  "language_info": {
   "codemirror_mode": {
    "name": "ipython",
    "version": 3
   },
   "file_extension": ".py",
   "mimetype": "text/x-python",
   "name": "python",
   "nbconvert_exporter": "python",
   "pygments_lexer": "ipython3",
   "version": "3.5.0"
  }
 },
 "nbformat": 4,
 "nbformat_minor": 0
}
